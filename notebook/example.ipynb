{
 "cells": [
  {
   "cell_type": "code",
   "execution_count": 4,
   "metadata": {},
   "outputs": [],
   "source": [
    "from collections import namedtuple"
   ]
  },
  {
   "cell_type": "markdown",
   "metadata": {},
   "source": [
    "\n",
    "1. Download url \n",
    "2. Download Folder (compressed File)\n",
    "3. Extract Folder (extracted File)\n",
    "4. Train Dataset Folder\n",
    "5. Test Dataset Folder "
   ]
  },
  {
   "cell_type": "code",
   "execution_count": 5,
   "metadata": {},
   "outputs": [],
   "source": [
    "DataIngestionConfig = namedtuple(\"DataIngestionConfig\",\n",
    "[\"dataset_download_url\",\"tgz_download_dir\",\"raw_data_dir\",\"ingested_train_dir\", \"ingested_test_dir\"] )\n"
   ]
  },
  {
   "cell_type": "code",
   "execution_count": 7,
   "metadata": {},
   "outputs": [],
   "source": [
    "data_ingestion_config =DataIngestionConfig(dataset_download_url=\"asada\",\n",
    "tgz_download_dir=\"asadad\",\n",
    "raw_data_dir=\"hfhfjkf\",\n",
    "ingested_train_dir=\"ajdjd\",\n",
    "ingested_test_dir=\"jfhjfhkf\")"
   ]
  },
  {
   "cell_type": "code",
   "execution_count": 8,
   "metadata": {},
   "outputs": [
    {
     "data": {
      "text/plain": [
       "DataIngestionConfig(dataset_download_url='asada', tgz_download_dir='asadad', raw_data_dir='hfhfjkf', ingested_train_dir='ajdjd', ingested_test_dir='jfhjfhkf')"
      ]
     },
     "execution_count": 8,
     "metadata": {},
     "output_type": "execute_result"
    }
   ],
   "source": [
    "data_ingestion_config"
   ]
  },
  {
   "cell_type": "code",
   "execution_count": null,
   "metadata": {},
   "outputs": [],
   "source": []
  }
 ],
 "metadata": {
  "kernelspec": {
   "display_name": "Python 3.7.0 (conda)",
   "language": "python",
   "name": "python3"
  },
  "language_info": {
   "codemirror_mode": {
    "name": "ipython",
    "version": 3
   },
   "file_extension": ".py",
   "mimetype": "text/x-python",
   "name": "python",
   "nbconvert_exporter": "python",
   "pygments_lexer": "ipython3",
   "version": "3.7.0"
  },
  "orig_nbformat": 4,
  "vscode": {
   "interpreter": {
    "hash": "da3fdbe14fb33eca6fae0dcbb22f58b6c379ebf5c2068477a9cad4fcc206fb24"
   }
  }
 },
 "nbformat": 4,
 "nbformat_minor": 2
}
